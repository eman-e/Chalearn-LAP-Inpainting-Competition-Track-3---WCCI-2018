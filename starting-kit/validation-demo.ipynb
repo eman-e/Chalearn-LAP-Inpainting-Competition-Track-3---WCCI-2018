{
 "cells": [
  {
   "cell_type": "code",
   "execution_count": 1,
   "metadata": {},
   "outputs": [],
   "source": [
    "from PIL import Image, ImageOps\n",
    "from chainer import using_config\n",
    "from chainer.cuda import to_cpu\n",
    "from chainer.serializers import load_npz\n",
    "from errno import EEXIST\n",
    "from glob import glob\n",
    "from os import makedirs\n",
    "from os.path import split\n",
    "from tqdm import tnrange\n",
    "from utils import Model"
   ]
  },
  {
   "cell_type": "code",
   "execution_count": 2,
   "metadata": {},
   "outputs": [],
   "source": [
    "device = 0 # -1 for CPU or GPU ID (0, 1, etc.) for GPU\n",
    "fp = sorted(glob('../data_set/validation_input/*.jpg'))"
   ]
  },
  {
   "cell_type": "code",
   "execution_count": 3,
   "metadata": {},
   "outputs": [],
   "source": [
    "model = Model()\n",
    "\n",
    "load_npz('../model.npz', model)\n",
    "\n",
    "if device >= 0:\n",
    "    model.to_gpu(device)"
   ]
  },
  {
   "cell_type": "code",
   "execution_count": 4,
   "metadata": {
    "scrolled": true
   },
   "outputs": [
    {
     "data": {
      "application/vnd.jupyter.widget-view+json": {
       "model_id": "170ef2c9153f47d0be4660bba03c096e",
       "version_major": 2,
       "version_minor": 0
      },
      "text/html": [
       "<p>Failed to display Jupyter Widget of type <code>HBox</code>.</p>\n",
       "<p>\n",
       "  If you're reading this message in the Jupyter Notebook or JupyterLab Notebook, it may mean\n",
       "  that the widgets JavaScript is still loading. If this message persists, it\n",
       "  likely means that the widgets JavaScript library is either not installed or\n",
       "  not enabled. See the <a href=\"https://ipywidgets.readthedocs.io/en/stable/user_install.html\">Jupyter\n",
       "  Widgets Documentation</a> for setup instructions.\n",
       "</p>\n",
       "<p>\n",
       "  If you're reading this message in another frontend (for example, a static\n",
       "  rendering on GitHub or <a href=\"https://nbviewer.jupyter.org/\">NBViewer</a>),\n",
       "  it may mean that your frontend doesn't currently support widgets.\n",
       "</p>\n"
      ],
      "text/plain": [
       "HBox(children=(IntProgress(value=0, max=8400), HTML(value='')))"
      ]
     },
     "metadata": {},
     "output_type": "display_data"
    },
    {
     "name": "stdout",
     "output_type": "stream",
     "text": [
      "\n"
     ]
    }
   ],
   "source": [
    "try:\n",
    "    makedirs('../data_set/validation_output')\n",
    "except OSError as exception:\n",
    "    if exception.errno != EEXIST:\n",
    "        raise\n",
    "\n",
    "for i in tnrange(len(fp)):\n",
    "    x = model.xp.asarray(Image.open(fp[i]).convert('RGB').resize((138, 200), Image.LANCZOS), 'f').transpose(2, 0, 1)[None]\n",
    "\n",
    "    with using_config('train', False):\n",
    "        y_hat = Image.fromarray(to_cpu(model(x).data[0, 0]).astype('uint8')).resize((275, 400), Image.LANCZOS)\n",
    "\n",
    "    y_hat.save('../data_set/validation_output/{}'.format(split(fp[i])[1])) # *contents* of the validation_output directory\n",
    "                                                                           # should be zipped and submitted"
   ]
  }
 ],
 "metadata": {
  "kernelspec": {
   "display_name": "Python 3",
   "language": "python",
   "name": "python3"
  },
  "language_info": {
   "codemirror_mode": {
    "name": "ipython",
    "version": 3
   },
   "file_extension": ".py",
   "mimetype": "text/x-python",
   "name": "python",
   "nbconvert_exporter": "python",
   "pygments_lexer": "ipython3",
   "version": "3.6.4"
  }
 },
 "nbformat": 4,
 "nbformat_minor": 2
}
